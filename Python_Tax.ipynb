{
  "nbformat": 4,
  "nbformat_minor": 0,
  "metadata": {
    "colab": {
      "name": "Python Tax",
      "provenance": []
    },
    "kernelspec": {
      "name": "python3",
      "display_name": "Python 3"
    },
    "language_info": {
      "name": "python"
    }
  },
  "cells": [
    {
      "cell_type": "code",
      "execution_count": 1,
      "metadata": {
        "colab": {
          "base_uri": "https://localhost:8080/"
        },
        "id": "5WYUoIGkNsCy",
        "outputId": "8d66a8c0-564a-4dbe-8d0c-9366400db30e"
      },
      "outputs": [
        {
          "name": "stdout",
          "output_type": "stream",
          "text": [
            "Enter a number : 88\n"
          ]
        }
      ],
      "source": [
        "x=input(\"Enter first number : \")"
      ]
    },
    {
      "cell_type": "code",
      "source": [
        "y=input(\"Enter second number : \")"
      ],
      "metadata": {
        "colab": {
          "base_uri": "https://localhost:8080/"
        },
        "id": "hEESdgAkPL69",
        "outputId": "53d63b23-536f-45be-9e14-492f883faeaa"
      },
      "execution_count": 2,
      "outputs": [
        {
          "name": "stdout",
          "output_type": "stream",
          "text": [
            "Enter second number : 55\n"
          ]
        }
      ]
    },
    {
      "cell_type": "code",
      "source": [
        "print(x+y)"
      ],
      "metadata": {
        "colab": {
          "base_uri": "https://localhost:8080/"
        },
        "id": "Ugg0e0ixPhyY",
        "outputId": "9dca9a50-8e6f-47fb-cd4c-7d0828919138"
      },
      "execution_count": 3,
      "outputs": [
        {
          "output_type": "stream",
          "name": "stdout",
          "text": [
            "8855\n"
          ]
        }
      ]
    },
    {
      "cell_type": "code",
      "source": [
        "print(x,y)"
      ],
      "metadata": {
        "colab": {
          "base_uri": "https://localhost:8080/"
        },
        "id": "LdcZ6J6aPo-x",
        "outputId": "5d82cf84-28fb-49e1-e24c-7a0d8465aee8"
      },
      "execution_count": 4,
      "outputs": [
        {
          "output_type": "stream",
          "name": "stdout",
          "text": [
            "88 55\n"
          ]
        }
      ]
    },
    {
      "cell_type": "code",
      "source": [
        "int(x)+int(y)"
      ],
      "metadata": {
        "colab": {
          "base_uri": "https://localhost:8080/"
        },
        "id": "hRGbf98ePu0o",
        "outputId": "bb2fd276-066f-4355-b408-8d97acea49eb"
      },
      "execution_count": 5,
      "outputs": [
        {
          "output_type": "execute_result",
          "data": {
            "text/plain": [
              "143"
            ]
          },
          "metadata": {},
          "execution_count": 5
        }
      ]
    },
    {
      "cell_type": "code",
      "source": [
        "int(x)-int(y)"
      ],
      "metadata": {
        "colab": {
          "base_uri": "https://localhost:8080/"
        },
        "id": "6QTBrxiuP77_",
        "outputId": "64deb3e0-73bb-4c82-9f97-efd1f6538634"
      },
      "execution_count": 6,
      "outputs": [
        {
          "output_type": "execute_result",
          "data": {
            "text/plain": [
              "33"
            ]
          },
          "metadata": {},
          "execution_count": 6
        }
      ]
    },
    {
      "cell_type": "code",
      "source": [
        "int(x)*int(y)"
      ],
      "metadata": {
        "colab": {
          "base_uri": "https://localhost:8080/"
        },
        "id": "lmjX29MtQC0c",
        "outputId": "16b51eca-9012-462b-f6c8-652da82804b3"
      },
      "execution_count": 7,
      "outputs": [
        {
          "output_type": "execute_result",
          "data": {
            "text/plain": [
              "4840"
            ]
          },
          "metadata": {},
          "execution_count": 7
        }
      ]
    },
    {
      "cell_type": "code",
      "source": [
        "int(x)/int(y)"
      ],
      "metadata": {
        "colab": {
          "base_uri": "https://localhost:8080/"
        },
        "id": "1ZixzIsFQGzc",
        "outputId": "014bad91-cdd4-4197-ceb4-276606b549e1"
      },
      "execution_count": 8,
      "outputs": [
        {
          "output_type": "execute_result",
          "data": {
            "text/plain": [
              "1.6"
            ]
          },
          "metadata": {},
          "execution_count": 8
        }
      ]
    },
    {
      "cell_type": "code",
      "source": [
        "type(x)"
      ],
      "metadata": {
        "colab": {
          "base_uri": "https://localhost:8080/"
        },
        "id": "ARRJ0zjYQKLs",
        "outputId": "ced55d3e-d157-45b6-d486-694833060572"
      },
      "execution_count": 9,
      "outputs": [
        {
          "output_type": "execute_result",
          "data": {
            "text/plain": [
              "str"
            ]
          },
          "metadata": {},
          "execution_count": 9
        }
      ]
    },
    {
      "cell_type": "code",
      "source": [
        "x=int(input(\"Enter the first number : \"))\n",
        "y=int(input(\"Enter the second number : \"))"
      ],
      "metadata": {
        "colab": {
          "base_uri": "https://localhost:8080/"
        },
        "id": "5J2HpOV2QbJT",
        "outputId": "6f5ace48-84cd-4c8e-baaa-fbe20648a483"
      },
      "execution_count": 12,
      "outputs": [
        {
          "name": "stdout",
          "output_type": "stream",
          "text": [
            "Enter the first number : 77\n",
            "Enter the second number : 22\n"
          ]
        }
      ]
    },
    {
      "cell_type": "code",
      "source": [
        "p=int(input(\"Enter the principle amount : \"))\n",
        "t=int(input(\"Enter the interest : \"))/100\n",
        "y=int(input(\"Enter the year : \"))\n",
        "I=p*t*y\n",
        "print(I)"
      ],
      "metadata": {
        "colab": {
          "base_uri": "https://localhost:8080/"
        },
        "id": "GpLC3r-mR96X",
        "outputId": "4a797973-205a-4324-f95e-9eaf1c3a24aa"
      },
      "execution_count": 1,
      "outputs": [
        {
          "output_type": "stream",
          "name": "stdout",
          "text": [
            "Enter the principle amount : 100000\n",
            "Enter the interest : 8\n",
            "Enter the year : 5\n",
            "40000.0\n"
          ]
        }
      ]
    },
    {
      "cell_type": "code",
      "source": [
        "x=int(input(\"Enter the mark : \"))\n",
        "if x>50:\n",
        "  print(\"Pass\")\n",
        "else:\n",
        "  print(\"Fail\")"
      ],
      "metadata": {
        "colab": {
          "base_uri": "https://localhost:8080/"
        },
        "id": "16mvAq5yU80J",
        "outputId": "828e017b-1b84-4aa3-f9e9-9dd96a7def65"
      },
      "execution_count": 6,
      "outputs": [
        {
          "output_type": "stream",
          "name": "stdout",
          "text": [
            "Enter the mark : 85\n",
            "Pass\n"
          ]
        }
      ]
    },
    {
      "cell_type": "code",
      "source": [
        "n=input(\"Enter your name : \")\n",
        "x=int(input(\"Enter your mark : \"))\n",
        "if x>50:\n",
        "  print(\"Pass\")\n",
        "else:\n",
        "  print(\"Fail\")"
      ],
      "metadata": {
        "colab": {
          "base_uri": "https://localhost:8080/"
        },
        "id": "GmMt_sWaX6Oz",
        "outputId": "7a2f8a06-a702-4296-8cb1-53ca9346f32a"
      },
      "execution_count": 7,
      "outputs": [
        {
          "output_type": "stream",
          "name": "stdout",
          "text": [
            "Enter your name : ENITTA LISA SIBY\n",
            "Enter your mark : 89\n",
            "Pass\n"
          ]
        }
      ]
    },
    {
      "cell_type": "code",
      "source": [
        "s1=int(input(\"Enter your Salary : \"))\n",
        "t=s1*10/100\n",
        "if s1>250000:\n",
        "  print(\"You are Taxable\")\n",
        "  print(t)\n",
        "else:\n",
        "  print(\"Not Taxable\")\n"
      ],
      "metadata": {
        "colab": {
          "base_uri": "https://localhost:8080/"
        },
        "id": "ugIiSrCwabTl",
        "outputId": "9cd364db-2622-4962-f159-11b8c7a7e3a8"
      },
      "execution_count": 9,
      "outputs": [
        {
          "output_type": "stream",
          "name": "stdout",
          "text": [
            "Enter your Salary : 300000\n",
            "You are Taxable\n",
            "30000.0\n"
          ]
        }
      ]
    },
    {
      "cell_type": "code",
      "source": [
        "# salary>250000 ahnell tax to pay, amount to find\n",
        "s1=int(input(\"Enter your Salary : \"))\n",
        "if s1>250000:\n",
        "  print(\"You are Taxable\")\n",
        "  print((s1-250000)*10/100)\n",
        "else:\n",
        "  print(\"You are Not Taxable\")\n"
      ],
      "metadata": {
        "colab": {
          "base_uri": "https://localhost:8080/"
        },
        "id": "xZKD7Gc7azXv",
        "outputId": "e2e7a63f-1c89-4441-bb2c-ed3dfd4fec42"
      },
      "execution_count": 17,
      "outputs": [
        {
          "output_type": "stream",
          "name": "stdout",
          "text": [
            "Enter your Salary : 300000\n",
            "You are Taxable\n",
            "5000.0\n"
          ]
        }
      ]
    },
    {
      "cell_type": "code",
      "source": [
        ""
      ],
      "metadata": {
        "id": "DUysDkzdiUGd"
      },
      "execution_count": null,
      "outputs": []
    },
    {
      "cell_type": "code",
      "source": [
        "s1=int(input(\"Enter your Salary : \"))\n",
        "if 25000<s1<500000:\n",
        "  print((s1-250000*10/100)\n",
        "if s1>500000:\n",
        "  print((s1-500000)*20/100)"
      ],
      "metadata": {
        "colab": {
          "base_uri": "https://localhost:8080/",
          "height": 130
        },
        "id": "tD4Sv-R4hjZe",
        "outputId": "8211669e-5928-4ebe-a2ef-e1d5cf809f4d"
      },
      "execution_count": 33,
      "outputs": [
        {
          "output_type": "error",
          "ename": "SyntaxError",
          "evalue": "ignored",
          "traceback": [
            "\u001b[0;36m  File \u001b[0;32m\"<ipython-input-33-36af24435c77>\"\u001b[0;36m, line \u001b[0;32m4\u001b[0m\n\u001b[0;31m    if s1>500000:\u001b[0m\n\u001b[0m                ^\u001b[0m\n\u001b[0;31mSyntaxError\u001b[0m\u001b[0;31m:\u001b[0m invalid syntax\n"
          ]
        }
      ]
    },
    {
      "cell_type": "code",
      "source": [
        ""
      ],
      "metadata": {
        "id": "zPPzGTIDl8C1"
      },
      "execution_count": null,
      "outputs": []
    },
    {
      "cell_type": "code",
      "source": [
        "# salary>250000 ahnell tax to pay, amount to find\n",
        "s1=int(input(\"Enter your Salary : \"))\n",
        "if s1>250000:\n",
        "  print(\"You are Taxable\")\n",
        "  print((s1-250000)*10/100)\n",
        "else:\n",
        "  print(\"You are Not Taxable\")\n"
      ],
      "metadata": {
        "id": "mW4cdjWqmNdl"
      },
      "execution_count": null,
      "outputs": []
    }
  ]
}