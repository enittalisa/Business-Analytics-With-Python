{
  "nbformat": 4,
  "nbformat_minor": 0,
  "metadata": {
    "colab": {
      "name": "Problem",
      "provenance": []
    },
    "kernelspec": {
      "name": "python3",
      "display_name": "Python 3"
    },
    "language_info": {
      "name": "python"
    }
  },
  "cells": [
    {
      "cell_type": "code",
      "execution_count": null,
      "metadata": {
        "id": "HzhUSCqBQ8HJ"
      },
      "outputs": [],
      "source": [
        "# base sal, house allowance, travel allowance, special allowance 0-2.5(no tax), 2.5-5(5%), 6-7.5(10%), 7.5-10(20%), 10+(30%)"
      ]
    },
    {
      "cell_type": "code",
      "source": [
        "import matplotlib.pyplot as plt\n",
        "import numpy as np\n",
        "a=int(input(\"Enter your basic salary : \"))\n",
        "b=int(input(\"Enter the house allowance : \"))\n",
        "c=int(input(\"Enter the special allowance : \"))\n",
        "trav=int(input(\"Enter the travel allowance : \"))\n",
        "if a<250000:\n",
        "  print(\"NO TAX\")\n",
        "elif a>250000 and a<500000:\n",
        "  print(\"TAXABLE\",((a-250000)*5/100))\n",
        "elif a>600000 and a<750000:\n",
        "  print(\"TAXABLE\",((a-500000)*10/100)+(250000*5/100))\n",
        "elif a>750000 and a<1000000:\n",
        "  print(\"TAXABLE\",((a-750000)*20/100)+(250000*5/100)+(250000*10/100))\n",
        "else:\n",
        "  print(\"TAXABLE\",((a-1000000)*30/100)+(250000*5/100)+(250000*10/100)+(250000*20/100))\n",
        "if b>a:\n",
        " t3=b*10/100\n",
        " print(t3,\"HRA tax\")"
      ],
      "metadata": {
        "colab": {
          "base_uri": "https://localhost:8080/"
        },
        "id": "4XXhJYJPRO0h",
        "outputId": "a78a12e1-830c-4f72-f2a8-64869110f103"
      },
      "execution_count": 13,
      "outputs": [
        {
          "output_type": "stream",
          "name": "stdout",
          "text": [
            "Enter your basic salary : 260000\n",
            "Enter the house allowance : 270000\n",
            "Enter the special allowance : 5000\n",
            "Enter the travel allowance : 44541\n",
            "TAXABLE 500.0\n",
            "27000.0 HRA tax\n"
          ]
        }
      ]
    },
    {
      "cell_type": "code",
      "source": [
        "if b<250000:\n",
        "    print(\"NO TAX\")\n",
        "  elif b>250000 and b<500000:\n",
        "    print(\"TAXABLE\",((a-250000)*5/100))\n",
        "  elif b>600000 and b<750000:\n",
        "     print(\"TAXABLE\",((a-500000)*10/100)+(250000*5/100))\n",
        "  elif b>750000 and b<1000000:\n",
        "     print(\"TAXABLE\",((b-750000)*20/100)+(250000*5/100)+(250000*10/100))\n",
        "  else:\n",
        "    print(\"TAXABLE\",(b-1000000)*30/100)+(250000*5/100)+(250000*10/100)+(250000*20/100)"
      ],
      "metadata": {
        "id": "P8JOK8F_nsk2"
      },
      "execution_count": null,
      "outputs": []
    },
    {
      "cell_type": "code",
      "source": [
        ""
      ],
      "metadata": {
        "id": "7zacwIsmRbdI"
      },
      "execution_count": 2,
      "outputs": []
    },
    {
      "cell_type": "code",
      "source": [
        ""
      ],
      "metadata": {
        "id": "YbjpU02ORs43"
      },
      "execution_count": null,
      "outputs": []
    },
    {
      "cell_type": "code",
      "source": [
        ""
      ],
      "metadata": {
        "id": "EtH1UvikSnCQ"
      },
      "execution_count": null,
      "outputs": []
    }
  ]
}